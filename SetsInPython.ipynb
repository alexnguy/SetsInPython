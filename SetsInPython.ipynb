{
    "cells": [
        {
            "cell_type": "markdown",
            "metadata": {
                "collapsed": true
            },
            "source": "# Sets in Python"
        },
        {
            "cell_type": "markdown",
            "metadata": {},
            "source": "A set is a collection, a unique one of objects in Python. This means duplicate items are deleted. One can denote a set via curly brackets. "
        },
        {
            "cell_type": "code",
            "execution_count": 1,
            "metadata": {},
            "outputs": [
                {
                    "data": {
                        "text/plain": "{'Argon', 'Helium', 'Krypton', 'Neon', 'Oganesson', 'Radon', 'Xenon'}"
                    },
                    "execution_count": 1,
                    "metadata": {},
                    "output_type": "execute_result"
                }
            ],
            "source": "# Let us first create a set\n\nnoble_gases_set = {\"Helium\", \"Neon\", \"Argon\", \"Krypton\", \"Xenon\", \"Radon\", \"Oganesson\"}\nnoble_gases_set"
        },
        {
            "cell_type": "code",
            "execution_count": 3,
            "metadata": {},
            "outputs": [
                {
                    "data": {
                        "text/plain": "{'Caesium', 'Francium', 'Lithium', 'Potassium', 'Rubidium', 'Sodium'}"
                    },
                    "execution_count": 3,
                    "metadata": {},
                    "output_type": "execute_result"
                }
            ],
            "source": "# We can also convert a list to a set via set typecasting\n\nalkali_metals_list = [\"Lithium\", \"Sodium\", \"Potassium\", \"Caesium\", \"Rubidium\", \"Francium\"]\nalkali_metals_set = set(alkali_metals_list)\nalkali_metals_set"
        },
        {
            "cell_type": "markdown",
            "metadata": {},
            "source": "### Set Operations\n"
        },
        {
            "cell_type": "markdown",
            "metadata": {},
            "source": "Set operations can be used to change the set itself."
        },
        {
            "cell_type": "code",
            "execution_count": 4,
            "metadata": {},
            "outputs": [
                {
                    "data": {
                        "text/plain": "{'Argon', 'Helium', 'Krypton', 'Neon', 'Oganesson', 'Radon', 'Xenon'}"
                    },
                    "execution_count": 4,
                    "metadata": {},
                    "output_type": "execute_result"
                }
            ],
            "source": "A = noble_gases_set\nA"
        },
        {
            "cell_type": "code",
            "execution_count": 5,
            "metadata": {},
            "outputs": [
                {
                    "data": {
                        "text/plain": "{'Argon',\n 'Chemical X',\n 'Helium',\n 'Krypton',\n 'Neon',\n 'Oganesson',\n 'Radon',\n 'Xenon'}"
                    },
                    "execution_count": 5,
                    "metadata": {},
                    "output_type": "execute_result"
                }
            ],
            "source": "# We can add an element using the add method\n\nA.add(\"Chemical X\")\nA"
        },
        {
            "cell_type": "code",
            "execution_count": 6,
            "metadata": {},
            "outputs": [
                {
                    "data": {
                        "text/plain": "{'Argon', 'Helium', 'Krypton', 'Neon', 'Oganesson', 'Radon', 'Xenon'}"
                    },
                    "execution_count": 6,
                    "metadata": {},
                    "output_type": "execute_result"
                }
            ],
            "source": "# We can also remove using the remove method\n\nA.remove (\"Chemical X\")\nA"
        },
        {
            "cell_type": "code",
            "execution_count": 7,
            "metadata": {},
            "outputs": [
                {
                    "data": {
                        "text/plain": "True"
                    },
                    "execution_count": 7,
                    "metadata": {},
                    "output_type": "execute_result"
                }
            ],
            "source": "# We can verify if an element is in the set using the in method\n\n\"Argon\" in A"
        },
        {
            "cell_type": "markdown",
            "metadata": {},
            "source": "### Sets Logic Operations"
        },
        {
            "cell_type": "markdown",
            "metadata": {},
            "source": "With sets we can check for difference between them, as well as any intersection, union, or symmetric difference."
        },
        {
            "cell_type": "code",
            "execution_count": 8,
            "metadata": {},
            "outputs": [],
            "source": "# These are the two sets we will be using\n\nA = noble_gases_set = {\"Helium\", \"Neon\", \"Argon\", \"Krypton\", \"Xenon\", \"Radon\", \"Oganesson\"}\nB = stable_elements_set = {\"Neon\", \"Hassium\", \"Argon\", \"Bismuth\", \"Krypton\", \"Helium\"}"
        },
        {
            "cell_type": "code",
            "execution_count": 9,
            "metadata": {},
            "outputs": [
                {
                    "data": {
                        "text/plain": "({'Argon', 'Helium', 'Krypton', 'Neon', 'Oganesson', 'Radon', 'Xenon'},\n {'Argon', 'Bismuth', 'Hassium', 'Helium', 'Krypton', 'Neon'})"
                    },
                    "execution_count": 9,
                    "metadata": {},
                    "output_type": "execute_result"
                }
            ],
            "source": "# Print the two sets\nA, B"
        },
        {
            "cell_type": "code",
            "execution_count": 10,
            "metadata": {},
            "outputs": [
                {
                    "data": {
                        "text/plain": "{'Argon', 'Helium', 'Krypton', 'Neon'}"
                    },
                    "execution_count": 10,
                    "metadata": {},
                    "output_type": "execute_result"
                }
            ],
            "source": "# Find the intersections\n\nintersection = A & B\nintersection"
        },
        {
            "cell_type": "code",
            "execution_count": 13,
            "metadata": {},
            "outputs": [
                {
                    "data": {
                        "text/plain": "{'Argon', 'Helium', 'Krypton', 'Neon'}"
                    },
                    "execution_count": 13,
                    "metadata": {},
                    "output_type": "execute_result"
                }
            ],
            "source": "# We can also find the intersection by using the intersection method\n\nA.intersection(B)"
        },
        {
            "cell_type": "code",
            "execution_count": 11,
            "metadata": {},
            "outputs": [
                {
                    "data": {
                        "text/plain": "{'Oganesson', 'Radon', 'Xenon'}"
                    },
                    "execution_count": 11,
                    "metadata": {},
                    "output_type": "execute_result"
                }
            ],
            "source": "# Find the differnce in A, but not B\n\nA.difference(B)"
        },
        {
            "cell_type": "code",
            "execution_count": 12,
            "metadata": {},
            "outputs": [
                {
                    "data": {
                        "text/plain": "{'Bismuth', 'Hassium'}"
                    },
                    "execution_count": 12,
                    "metadata": {},
                    "output_type": "execute_result"
                }
            ],
            "source": "# Difference in B, but not A\n\nB.difference(A)"
        },
        {
            "cell_type": "code",
            "execution_count": 14,
            "metadata": {},
            "outputs": [
                {
                    "data": {
                        "text/plain": "{'Argon',\n 'Bismuth',\n 'Hassium',\n 'Helium',\n 'Krypton',\n 'Neon',\n 'Oganesson',\n 'Radon',\n 'Xenon'}"
                    },
                    "execution_count": 14,
                    "metadata": {},
                    "output_type": "execute_result"
                }
            ],
            "source": "# The union can be find by the union method\n\nA.union(B)"
        },
        {
            "cell_type": "code",
            "execution_count": 15,
            "metadata": {},
            "outputs": [
                {
                    "data": {
                        "text/plain": "False"
                    },
                    "execution_count": 15,
                    "metadata": {},
                    "output_type": "execute_result"
                }
            ],
            "source": "# We can check if a set is a superset or subset\n\nset(A).issuperset(B)"
        },
        {
            "cell_type": "code",
            "execution_count": 16,
            "metadata": {},
            "outputs": [
                {
                    "data": {
                        "text/plain": "False"
                    },
                    "execution_count": 16,
                    "metadata": {},
                    "output_type": "execute_result"
                }
            ],
            "source": "set(B).issuperset(A)"
        },
        {
            "cell_type": "code",
            "execution_count": 17,
            "metadata": {},
            "outputs": [
                {
                    "data": {
                        "text/plain": "False"
                    },
                    "execution_count": 17,
                    "metadata": {},
                    "output_type": "execute_result"
                }
            ],
            "source": "set(A).issubset(B)"
        },
        {
            "cell_type": "code",
            "execution_count": 18,
            "metadata": {},
            "outputs": [
                {
                    "data": {
                        "text/plain": "False"
                    },
                    "execution_count": 18,
                    "metadata": {},
                    "output_type": "execute_result"
                }
            ],
            "source": "set(B).issubset(A)"
        }
    ],
    "metadata": {
        "kernelspec": {
            "display_name": "Python 3.9",
            "language": "python",
            "name": "python3"
        },
        "language_info": {
            "codemirror_mode": {
                "name": "ipython",
                "version": 3
            },
            "file_extension": ".py",
            "mimetype": "text/x-python",
            "name": "python",
            "nbconvert_exporter": "python",
            "pygments_lexer": "ipython3",
            "version": "3.9.7"
        }
    },
    "nbformat": 4,
    "nbformat_minor": 1
}